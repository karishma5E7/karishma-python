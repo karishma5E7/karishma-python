{
 "cells": [
  {
   "cell_type": "code",
   "execution_count": 3,
   "metadata": {},
   "outputs": [
    {
     "name": "stdout",
     "output_type": "stream",
     "text": [
      "Enter the value8\n",
      "2 Even\n",
      "4 Even\n",
      "6 Even\n",
      "8 Even\n"
     ]
    }
   ],
   "source": [
    "n1=int(input(\"Enter the value\"))\n",
    "i=1\n",
    "while i<=n1:\n",
    "    if i%2==0:\n",
    "        print(i,\"Even\")\n",
    "    i+=1"
   ]
  },
  {
   "cell_type": "code",
   "execution_count": 24,
   "metadata": {},
   "outputs": [
    {
     "name": "stdout",
     "output_type": "stream",
     "text": [
      "h\n",
      "e\n",
      "l\n"
     ]
    }
   ],
   "source": [
    "# jumping statements\n",
    "#break,continue,pass\n",
    "\n",
    "s='hello'\n",
    "for i in s:\n",
    "    print(i)\n",
    "    if i==\"l\":\n",
    "        break\n",
    "    "
   ]
  },
  {
   "cell_type": "code",
   "execution_count": 25,
   "metadata": {},
   "outputs": [
    {
     "name": "stdout",
     "output_type": "stream",
     "text": [
      "h\n",
      "e\n",
      "l\n",
      "l\n",
      "o\n"
     ]
    }
   ],
   "source": [
    "s='hello'\n",
    "for i in s:\n",
    "    print(i)\n",
    "    if i==\"l\":\n",
    "        continue\n",
    "    "
   ]
  },
  {
   "cell_type": "code",
   "execution_count": 26,
   "metadata": {},
   "outputs": [
    {
     "ename": "SyntaxError",
     "evalue": "invalid syntax (<ipython-input-26-b2259ac64e34>, line 1)",
     "output_type": "error",
     "traceback": [
      "\u001b[1;36m  File \u001b[1;32m\"<ipython-input-26-b2259ac64e34>\"\u001b[1;36m, line \u001b[1;32m1\u001b[0m\n\u001b[1;33m    def name:\u001b[0m\n\u001b[1;37m            ^\u001b[0m\n\u001b[1;31mSyntaxError\u001b[0m\u001b[1;31m:\u001b[0m invalid syntax\n"
     ]
    }
   ],
   "source": [
    "def name:\n",
    "    pass"
   ]
  },
  {
   "cell_type": "code",
   "execution_count": null,
   "metadata": {},
   "outputs": [],
   "source": [
    "# functions are 3 types\n",
    "# predefined\n",
    "# input,print,type,ord,bin,sum,max,min,round,chr,sorted,len\n",
    "\n",
    "\n",
    "\n",
    "# userdefined\n",
    "# special\n"
   ]
  },
  {
   "cell_type": "code",
   "execution_count": 47,
   "metadata": {},
   "outputs": [
    {
     "data": {
      "text/plain": [
       "2"
      ]
     },
     "execution_count": 47,
     "metadata": {},
     "output_type": "execute_result"
    }
   ],
   "source": [
    "a=\"python workshop\"\n",
    "b=[1,2,3,4,5]\n",
    "c='k'\n",
    "len(a)\n",
    "type(a)\n",
    "bin(5)\n",
    "sum(b)\n",
    "max(a)\n",
    "min(a)\n",
    "round(10.5)\n",
    "round(10.8)\n",
    "round(10.59)\n",
    "sorted(a)\n",
    "all(c)\n",
    "any(c)\n",
    "abs(-1)\n",
    "pow(10,2)\n",
    "abs(2)\n",
    "abs(-2)\n"
   ]
  },
  {
   "cell_type": "code",
   "execution_count": 5,
   "metadata": {},
   "outputs": [
    {
     "name": "stdout",
     "output_type": "stream",
     "text": [
      "Enter the any kind of data:-*vk\n",
      "*vk special charecter\n"
     ]
    }
   ],
   "source": [
    "data=input(\"Enter the any kind of data:-\")\n",
    "if data>='a' and data<='z' or data>='A' and data<='Z': \n",
    "    print(data,\"Alphabet\")\n",
    "elif data>='0' and data<='9':\n",
    "    print(data,\"Is digit\")\n",
    "else:\n",
    "    print(data,\"special charecter\")"
   ]
  },
  {
   "cell_type": "code",
   "execution_count": 9,
   "metadata": {},
   "outputs": [
    {
     "name": "stdout",
     "output_type": "stream",
     "text": [
      "Enter u name:-karishma\n",
      "enter pwd:-········\n",
      "Welcome karishma\n"
     ]
    }
   ],
   "source": [
    "from getpass import getpass \n",
    "uname=input(\"Enter u name:-\")\n",
    "pwd=getpass(\"enter pwd:-\")\n",
    "if uname==\"karishma\" and pwd==\"vk$123\":\n",
    "    print(\"Welcome\",uname)\n",
    "else:\n",
    "    print(\"Invalid uname or password\")\n",
    "    "
   ]
  },
  {
   "cell_type": "code",
   "execution_count": null,
   "metadata": {},
   "outputs": [],
   "source": []
  },
  {
   "cell_type": "code",
   "execution_count": null,
   "metadata": {},
   "outputs": [],
   "source": []
  }
 ],
 "metadata": {
  "kernelspec": {
   "display_name": "Python 3",
   "language": "python",
   "name": "python3"
  },
  "language_info": {
   "codemirror_mode": {
    "name": "ipython",
    "version": 3
   },
   "file_extension": ".py",
   "mimetype": "text/x-python",
   "name": "python",
   "nbconvert_exporter": "python",
   "pygments_lexer": "ipython3",
   "version": "3.7.3"
  }
 },
 "nbformat": 4,
 "nbformat_minor": 2
}
