{
 "cells": [
  {
   "cell_type": "code",
   "execution_count": null,
   "metadata": {},
   "outputs": [],
   "source": [
    "# User defined functions\n"
   ]
  },
  {
   "cell_type": "code",
   "execution_count": null,
   "metadata": {},
   "outputs": [],
   "source": [
    "def add(v,k):\n",
    "    print(v+k)\n",
    "add(1,8)"
   ]
  },
  {
   "cell_type": "code",
   "execution_count": null,
   "metadata": {},
   "outputs": [],
   "source": [
    "def sub(v,k):\n",
    "    print(v-k)\n",
    "sub(8,1)"
   ]
  },
  {
   "cell_type": "code",
   "execution_count": null,
   "metadata": {},
   "outputs": [],
   "source": [
    "def sample():\n",
    "    print(\"Welcome\")\n",
    "print(\"Python WorkShop\")    \n",
    "sample()\n"
   ]
  },
  {
   "cell_type": "code",
   "execution_count": null,
   "metadata": {},
   "outputs": [],
   "source": [
    "def sample():\n",
    "    pass\n",
    "print(\"Welcome\")   \n",
    "sample()\n"
   ]
  },
  {
   "cell_type": "code",
   "execution_count": null,
   "metadata": {},
   "outputs": [],
   "source": [
    "def mul(v,k):\n",
    "    c=v*k\n",
    "    return(\"Multiply of two numbers is\",c)\n",
    "mul(8,8)"
   ]
  },
  {
   "cell_type": "code",
   "execution_count": null,
   "metadata": {},
   "outputs": [],
   "source": [
    "def add():\n",
    "    a=1\n",
    "    b=8\n",
    "    return a+b\n",
    "add()"
   ]
  },
  {
   "cell_type": "code",
   "execution_count": null,
   "metadata": {},
   "outputs": [],
   "source": [
    "def sub():\n",
    "    v=8\n",
    "    k=3\n",
    "    print(\"subtraction of two numbers is\",v-k)\n",
    "sub()"
   ]
  },
  {
   "cell_type": "code",
   "execution_count": null,
   "metadata": {},
   "outputs": [],
   "source": [
    "def div(v,k):\n",
    "    return 'div of %d / %d = %d'%(v,k,v/k)\n",
    "v=int(input(\"Enter value\"))\n",
    "k=int(input(\"Enter value\"))\n",
    "div(v,k)\n"
   ]
  },
  {
   "cell_type": "code",
   "execution_count": null,
   "metadata": {},
   "outputs": [],
   "source": [
    "def div(v,k):\n",
    "    v=8\n",
    "    k=3\n",
    "    print(\"div of two numbers is\",v/k)\n",
    "div(8,3)"
   ]
  },
  {
   "cell_type": "code",
   "execution_count": null,
   "metadata": {},
   "outputs": [],
   "source": [
    "def intrest(p,t,r):\n",
    "    total=p*t*r/100\n",
    "    return total\n",
    "p=int(input(\"Enter principle amount:-\"))\n",
    "t=float(input(\"Enter time:-\"))\n",
    "r=float(input(\"Enter rate:-\"))\n",
    "intrest(p,t,r)"
   ]
  },
  {
   "cell_type": "code",
   "execution_count": null,
   "metadata": {},
   "outputs": [],
   "source": [
    "def simple(p,t,r):\n",
    "    total=p*t*r/100\n",
    "    return total\n",
    "simple(t=3.0,r=1.50,p=10000)"
   ]
  },
  {
   "cell_type": "code",
   "execution_count": null,
   "metadata": {},
   "outputs": [],
   "source": [
    "def simple(p,t,r):\n",
    "    total=p*t*r/100\n",
    "    return total\n",
    "p=int(input(\"Enter principle amount:-\"))\n",
    "t=float(input(\"Enter time:-\"))\n",
    "r=float(input(\"Enter rate:-\"))\n",
    "simple(t=3.0,r=1.50,p=10000)\n",
    "simple(t=t,r=r,p=p) # dynamic"
   ]
  },
  {
   "cell_type": "code",
   "execution_count": null,
   "metadata": {},
   "outputs": [],
   "source": [
    "def simple(t=3.0,r=1.50,p=10000):\n",
    "    print(p*t*r/100)\n",
    "simple()"
   ]
  },
  {
   "cell_type": "code",
   "execution_count": null,
   "metadata": {},
   "outputs": [],
   "source": [
    "def var_sum(*a):\n",
    "    s=0\n",
    "    for i in a:\n",
    "        s+=1\n",
    "    print(s)\n",
    "var_sum(1,2,3,4,5,6)"
   ]
  },
  {
   "cell_type": "code",
   "execution_count": 6,
   "metadata": {},
   "outputs": [
    {
     "name": "stdout",
     "output_type": "stream",
     "text": [
      "Choose your operations:-\n",
      "1.add\n",
      "2.sub\n",
      "3.mul\n",
      "4.div\n",
      "5.mod\n",
      "6.exponential\n",
      "7.floor division\n",
      "Enter the value:-6\n",
      "Enter the value:-4\n",
      "Enter your choice 1/2/3/4/5/6/7: 3\n",
      "Multiplication of %d * %d = %d (6, 4, 24)\n"
     ]
    }
   ],
   "source": [
    "print(\"Choose your operations:-\")\n",
    "print(\"1.add\")\n",
    "print(\"2.sub\")\n",
    "print(\"3.mul\")\n",
    "print(\"4.div\")\n",
    "print(\"5.mod\")\n",
    "print(\"6.exponential\")\n",
    "print(\"7.floor division\")\n",
    "   \n",
    "num1=int(input(\"Enter the value:-\"))\n",
    "num2=int(input(\"Enter the value:-\"))\n",
    "choice=(int(input(\"Enter your choice 1/2/3/4/5/6/7: \")))\n",
    "def add(num1,num2):\n",
    "    print(\"addition of %d + %d = %d\",(num1,num2,num1+num2))\n",
    "def sub(num1,num2):\n",
    "    print(\"Subtraction of %d - %d = %d\",(num1,num2,num1-num2))\n",
    "def mul(num1,num2):\n",
    "    print(\"Multiplication of %d * %d = %d\",(num1,num2,num1*num2))\n",
    "def div(num1,num2):\n",
    "    print(\"Divvision of %d / %d = %d\",(num1,num2,num1/num2))\n",
    "def mod(num1,num2):\n",
    "    print(\"Module division of %d % %d = %d\",(num1,num2,num1%num2))\n",
    "def power(num1,num2):\n",
    "    print(\"Exponential of %d ** %d = %d\",(num1,num2,num1**num2))\n",
    "def floordivision(num1,num2):\n",
    "    print(\"Floordivision of %d // %d = %d\",(num1,num2,num1//num2))\n",
    "if choice==1:\n",
    "    add(num1,num2)\n",
    "elif choice==2:\n",
    "    sub(num1,num2)\n",
    "elif choice==3:\n",
    "    mul(num1,num2)\n",
    "elif choice==4:\n",
    "    div(num1,num2)\n",
    "elif choice==5:\n",
    "    mod(num1,num2)\n",
    "elif choice==6:\n",
    "    exponential(num1,num2)\n",
    "elif choice==7:\n",
    "    floordivision(num1,num2)\n",
    "else:\n",
    "    print(\"Invalid choice\")\n",
    "    \n",
    "\n",
    "    "
   ]
  },
  {
   "cell_type": "code",
   "execution_count": 3,
   "metadata": {},
   "outputs": [
    {
     "name": "stdout",
     "output_type": "stream",
     "text": [
      "vkrs\n"
     ]
    }
   ],
   "source": [
    "a=\"vk\"\n",
    "b=\"rs\"\n",
    "print(a+b)"
   ]
  },
  {
   "cell_type": "code",
   "execution_count": 10,
   "metadata": {},
   "outputs": [
    {
     "name": "stdout",
     "output_type": "stream",
     "text": [
      "s\n"
     ]
    }
   ],
   "source": [
    "print(b[1])"
   ]
  },
  {
   "cell_type": "code",
   "execution_count": 9,
   "metadata": {
    "scrolled": true
   },
   "outputs": [
    {
     "name": "stdout",
     "output_type": "stream",
     "text": [
      "v\n"
     ]
    }
   ],
   "source": [
    "print(a[-2])"
   ]
  },
  {
   "cell_type": "code",
   "execution_count": 21,
   "metadata": {},
   "outputs": [
    {
     "name": "stdout",
     "output_type": "stream",
     "text": [
      "python programming\n",
      "python\n",
      "on\n",
      "gnimmargorp nohtyp\n",
      "pto rgamn\n",
      " \n",
      "python programming\n"
     ]
    }
   ],
   "source": [
    "name=\"python programming\"\n",
    "print(name[:])\n",
    "print(name[:6])\n",
    "print(name[4:6])\n",
    "print(name[::-1])\n",
    "print(name[0:17:2])\n",
    "print(name[6:7])\n",
    "print(name[0:]) "
   ]
  },
  {
   "cell_type": "code",
   "execution_count": 22,
   "metadata": {},
   "outputs": [
    {
     "name": "stdout",
     "output_type": "stream",
     "text": [
      "['__add__', '__class__', '__contains__', '__delattr__', '__dir__', '__doc__', '__eq__', '__format__', '__ge__', '__getattribute__', '__getitem__', '__getnewargs__', '__gt__', '__hash__', '__init__', '__init_subclass__', '__iter__', '__le__', '__len__', '__lt__', '__mod__', '__mul__', '__ne__', '__new__', '__reduce__', '__reduce_ex__', '__repr__', '__rmod__', '__rmul__', '__setattr__', '__sizeof__', '__str__', '__subclasshook__', 'capitalize', 'casefold', 'center', 'count', 'encode', 'endswith', 'expandtabs', 'find', 'format', 'format_map', 'index', 'isalnum', 'isalpha', 'isascii', 'isdecimal', 'isdigit', 'isidentifier', 'islower', 'isnumeric', 'isprintable', 'isspace', 'istitle', 'isupper', 'join', 'ljust', 'lower', 'lstrip', 'maketrans', 'partition', 'replace', 'rfind', 'rindex', 'rjust', 'rpartition', 'rsplit', 'rstrip', 'split', 'splitlines', 'startswith', 'strip', 'swapcase', 'title', 'translate', 'upper', 'zfill']\n"
     ]
    }
   ],
   "source": [
    "print(dir(str))"
   ]
  },
  {
   "cell_type": "code",
   "execution_count": 23,
   "metadata": {},
   "outputs": [
    {
     "name": "stdout",
     "output_type": "stream",
     "text": [
      "['__add__', '__class__', '__contains__', '__delattr__', '__dir__', '__doc__', '__eq__', '__format__', '__ge__', '__getattribute__', '__getitem__', '__getnewargs__', '__gt__', '__hash__', '__init__', '__init_subclass__', '__iter__', '__le__', '__len__', '__lt__', '__mod__', '__mul__', '__ne__', '__new__', '__reduce__', '__reduce_ex__', '__repr__', '__rmod__', '__rmul__', '__setattr__', '__sizeof__', '__str__', '__subclasshook__', 'capitalize', 'casefold', 'center', 'count', 'encode', 'endswith', 'expandtabs', 'find', 'format', 'format_map', 'index', 'isalnum', 'isalpha', 'isascii', 'isdecimal', 'isdigit', 'isidentifier', 'islower', 'isnumeric', 'isprintable', 'isspace', 'istitle', 'isupper', 'join', 'ljust', 'lower', 'lstrip', 'maketrans', 'partition', 'replace', 'rfind', 'rindex', 'rjust', 'rpartition', 'rsplit', 'rstrip', 'split', 'splitlines', 'startswith', 'strip', 'swapcase', 'title', 'translate', 'upper', 'zfill']\n"
     ]
    }
   ],
   "source": [
    "m='hello'\n",
    "print(dir(m))"
   ]
  },
  {
   "cell_type": "code",
   "execution_count": 28,
   "metadata": {},
   "outputs": [
    {
     "name": "stdout",
     "output_type": "stream",
     "text": [
      "World\n",
      "world\n",
      "wOrLd\n"
     ]
    }
   ],
   "source": [
    "p=\"WoRlD\"\n",
    "print(p.capitalize())\n",
    "print(p.casefold())\n",
    "print(p.swapcase())"
   ]
  },
  {
   "cell_type": "code",
   "execution_count": 50,
   "metadata": {},
   "outputs": [
    {
     "name": "stdout",
     "output_type": "stream",
     "text": [
      "2\n",
      "0\n",
      "-1\n",
      "$$$$$$$$$$$$$$$$$$$$$$$$$$$$$$$$$$$$$$$$$python programming$$$$$$$$$$$$$$$$$$$$$$$$$$$$$$$$$$$$$$$$$\n",
      "My name is(0) & i am from(1)\n",
      "Python Programming\n"
     ]
    }
   ],
   "source": [
    "p=\"python programming\"\n",
    "print(p.count('m'))\n",
    "print(p.index('p'))\n",
    "print(p.find('b'))\n",
    "print(p.center(100,'$'))\n",
    "print('My name is(0) & i am from(1)'.format('abc','xyz'))\n",
    "print(p.title())"
   ]
  },
  {
   "cell_type": "code",
   "execution_count": 67,
   "metadata": {},
   "outputs": [
    {
     "name": "stdout",
     "output_type": "stream",
     "text": [
      "False\n",
      "False\n",
      "True\n",
      "True\n",
      "True\n",
      "P<--->y<--->t<--->h<--->o<--->n<---> <--->P<--->r<--->o<--->g<--->r<--->a<--->m<--->m<--->i<--->n<--->g\n",
      "False\n",
      "False\n",
      "python  programming     workshop\n"
     ]
    }
   ],
   "source": [
    "p=\"Python Programming\"\n",
    "print(p.isupper())\n",
    "print(p.islower())\n",
    "print(p.startswith('P'))\n",
    "print(p.endswith('g')) \n",
    "print(p.istitle())\n",
    "q='<--->'\n",
    "print(q.join(p))\n",
    "print(p.isalpha())\n",
    "print(p.isalnum())\n",
    "print('python\\tprogramming\\tworkshop'.expandtabs())\n"
   ]
  },
  {
   "cell_type": "code",
   "execution_count": 70,
   "metadata": {},
   "outputs": [
    {
     "name": "stdout",
     "output_type": "stream",
     "text": [
      "['Python', 'Programming']\n",
      "Python Programming\n",
      "Python Programming\n"
     ]
    }
   ],
   "source": [
    "print(p.split())\n",
    "print(p.strip())\n",
    "print(p.lstrip())\n"
   ]
  },
  {
   "cell_type": "code",
   "execution_count": null,
   "metadata": {},
   "outputs": [],
   "source": []
  }
 ],
 "metadata": {
  "kernelspec": {
   "display_name": "Python 3",
   "language": "python",
   "name": "python3"
  },
  "language_info": {
   "codemirror_mode": {
    "name": "ipython",
    "version": 3
   },
   "file_extension": ".py",
   "mimetype": "text/x-python",
   "name": "python",
   "nbconvert_exporter": "python",
   "pygments_lexer": "ipython3",
   "version": "3.7.3"
  }
 },
 "nbformat": 4,
 "nbformat_minor": 2
}
